{
 "cells": [
  {
   "cell_type": "code",
   "execution_count": 5,
   "id": "ef66c817",
   "metadata": {},
   "outputs": [],
   "source": [
    "import numpy as np\n",
    "import tensorflow as tf\n",
    "from tensorflow import keras\n",
    "from tensorflow.keras.preprocessing.image import ImageDataGenerator \n",
    "import os\n",
    "import matplotlib.pyplot as plt\n",
    "import cv2\n",
    "from tensorflow.keras import layers\n",
    "from tensorflow.keras import Sequential\n",
    "from tensorflow.keras.layers import Flatten\n",
    "%matplotlib inline"
   ]
  },
  {
   "cell_type": "code",
   "execution_count": 45,
   "id": "af3d8a32",
   "metadata": {},
   "outputs": [
    {
     "data": {
      "text/plain": [
       "('D:\\\\Dataset\\\\S_B_R_images\\\\train', 'D:\\\\Dataset\\\\S_B_R_images\\\\test')"
      ]
     },
     "execution_count": 45,
     "metadata": {},
     "output_type": "execute_result"
    }
   ],
   "source": [
    "train_dir = r\"D:\\Dataset\\S_B_R_images\\train\"\n",
    "test_dir = r\"D:\\Dataset\\S_B_R_images\\test\"\n",
    "train_dir,test_dir"
   ]
  },
  {
   "cell_type": "code",
   "execution_count": 46,
   "id": "2c3a8cad",
   "metadata": {},
   "outputs": [
    {
     "data": {
      "text/plain": [
       "['bg', 'rt', 'sm']"
      ]
     },
     "execution_count": 46,
     "metadata": {},
     "output_type": "execute_result"
    }
   ],
   "source": [
    "os.listdir(test_dir)"
   ]
  },
  {
   "cell_type": "code",
   "execution_count": 47,
   "id": "42d1189a",
   "metadata": {},
   "outputs": [],
   "source": [
    "train_datagen = ImageDataGenerator(\n",
    "    rescale=1.0/255.0,\n",
    "    rotation_range=30,\n",
    "    width_shift_range=0.2,\n",
    "    height_shift_range=0.2,\n",
    "    shear_range=0.2,\n",
    "    zoom_range=0.2,\n",
    "    horizontal_flip=True\n",
    ")\n",
    "test_datagen = ImageDataGenerator(\n",
    "    rescale=1.0/255.0\n",
    ")"
   ]
  },
  {
   "cell_type": "code",
   "execution_count": 48,
   "id": "ac748b88",
   "metadata": {},
   "outputs": [
    {
     "name": "stdout",
     "output_type": "stream",
     "text": [
      "Found 30 images belonging to 3 classes.\n",
      "Found 9 images belonging to 3 classes.\n"
     ]
    }
   ],
   "source": [
    "train_ge = train_datagen.flow_from_directory(train_dir,target_size = (150,150),batch_size=4)\n",
    "test_ge = test_datagen.flow_from_directory(test_dir,target_size = (150,150),batch_size=4)"
   ]
  },
  {
   "cell_type": "code",
   "execution_count": 49,
   "id": "3dcadded",
   "metadata": {},
   "outputs": [
    {
     "data": {
      "text/plain": [
       "{'bg': 0, 'rt': 1, 'sm': 2}"
      ]
     },
     "execution_count": 49,
     "metadata": {},
     "output_type": "execute_result"
    }
   ],
   "source": [
    "train_ge.class_indices"
   ]
  },
  {
   "cell_type": "code",
   "execution_count": 50,
   "id": "a4976b1a",
   "metadata": {},
   "outputs": [
    {
     "data": {
      "text/plain": [
       "array([0, 0, 0, 0, 0, 0, 0, 0, 0, 0, 1, 1, 1, 1, 1, 1, 1, 1, 1, 1, 2, 2,\n",
       "       2, 2, 2, 2, 2, 2, 2, 2])"
      ]
     },
     "execution_count": 50,
     "metadata": {},
     "output_type": "execute_result"
    }
   ],
   "source": [
    "train_ge.classes"
   ]
  },
  {
   "cell_type": "code",
   "execution_count": 51,
   "id": "07f0c35e",
   "metadata": {},
   "outputs": [
    {
     "data": {
      "text/plain": [
       "array([0, 0, 0, 1, 1, 1, 2, 2, 2])"
      ]
     },
     "execution_count": 51,
     "metadata": {},
     "output_type": "execute_result"
    }
   ],
   "source": [
    "test_ge.classes"
   ]
  },
  {
   "cell_type": "code",
   "execution_count": 52,
   "id": "5b37ebc5",
   "metadata": {},
   "outputs": [],
   "source": [
    "model = Sequential()\n",
    "model.add(layers.Conv2D(32,kernel_size=(3,3),activation='relu',input_shape=(150,150,3)))\n",
    "model.add(layers.MaxPool2D(2,2))\n",
    "\n",
    "model.add(layers.Conv2D(64,kernel_size=(3,3),activation='relu'))\n",
    "model.add(layers.MaxPool2D(2,2))\n",
    "\n",
    "\n",
    "model.add(layers.Conv2D(64,kernel_size=(3,3),activation='relu'))\n",
    "model.add(layers.MaxPool2D(2,2))\n",
    "\n",
    "model.add(Flatten())\n",
    "\n",
    "model.add(layers.Dense(128,activation='relu'))\n",
    "model.add(layers.Dropout(0.5))\n",
    "\n",
    "model.add(layers.Dense(3,activation='softmax'))"
   ]
  },
  {
   "cell_type": "code",
   "execution_count": 53,
   "id": "17cb9c2b",
   "metadata": {},
   "outputs": [],
   "source": [
    "'''\n",
    "    class_mode: One of \"categorical\",\n",
    "    \"binary\", \"sparse\", \"input\", or None. Default: \n",
    "    \"categorical\". Determines the type of label arrays that are returned: - \n",
    "    \"categorical\" will be 2D one-hot encoded labels, - \n",
    "    \"binary\" will be 1D binary labels, \n",
    "    \"sparse\" will be 1D integer labels, - \"\n",
    "    input\" will be images identical to input images \n",
    "    (mainly used to work with autoencoders). - \n",
    "    If None, no labels are returned \n",
    "    (the generator will only yield batches of image data, \n",
    "    which is useful to use with model.predict_generator()). \n",
    "    Please note that in case of class_mode None, \n",
    "    the data still needs to reside in a subdirectory of directory for it to work correctly.\n",
    "'''\n",
    "'''\n",
    "    So you should use categorical_crossentropy as loss function \n",
    "    if you choose categorical for class_mode, \n",
    "    and sparse_categorical_crossentropy if you choose sparse\n",
    "'''\n",
    "model.compile(optimizer='adam',loss='categorical_crossentropy',metrics=['accuracy'])"
   ]
  },
  {
   "cell_type": "code",
   "execution_count": 54,
   "id": "8a7ebaac",
   "metadata": {},
   "outputs": [
    {
     "name": "stdout",
     "output_type": "stream",
     "text": [
      "Model: \"sequential_1\"\n",
      "_________________________________________________________________\n",
      "Layer (type)                 Output Shape              Param #   \n",
      "=================================================================\n",
      "conv2d_3 (Conv2D)            (None, 148, 148, 32)      896       \n",
      "_________________________________________________________________\n",
      "max_pooling2d_3 (MaxPooling2 (None, 74, 74, 32)        0         \n",
      "_________________________________________________________________\n",
      "conv2d_4 (Conv2D)            (None, 72, 72, 64)        18496     \n",
      "_________________________________________________________________\n",
      "max_pooling2d_4 (MaxPooling2 (None, 36, 36, 64)        0         \n",
      "_________________________________________________________________\n",
      "conv2d_5 (Conv2D)            (None, 34, 34, 64)        36928     \n",
      "_________________________________________________________________\n",
      "max_pooling2d_5 (MaxPooling2 (None, 17, 17, 64)        0         \n",
      "_________________________________________________________________\n",
      "flatten_1 (Flatten)          (None, 18496)             0         \n",
      "_________________________________________________________________\n",
      "dense_2 (Dense)              (None, 128)               2367616   \n",
      "_________________________________________________________________\n",
      "dropout_1 (Dropout)          (None, 128)               0         \n",
      "_________________________________________________________________\n",
      "dense_3 (Dense)              (None, 3)                 387       \n",
      "=================================================================\n",
      "Total params: 2,424,323\n",
      "Trainable params: 2,424,323\n",
      "Non-trainable params: 0\n",
      "_________________________________________________________________\n"
     ]
    }
   ],
   "source": [
    "model.summary()"
   ]
  },
  {
   "cell_type": "code",
   "execution_count": 55,
   "id": "a75132a6",
   "metadata": {},
   "outputs": [
    {
     "data": {
      "text/plain": [
       "8"
      ]
     },
     "execution_count": 55,
     "metadata": {},
     "output_type": "execute_result"
    }
   ],
   "source": [
    "len(train_ge)"
   ]
  },
  {
   "cell_type": "code",
   "execution_count": 56,
   "id": "d5fbfe19",
   "metadata": {},
   "outputs": [
    {
     "data": {
      "text/plain": [
       "2"
      ]
     },
     "execution_count": 56,
     "metadata": {},
     "output_type": "execute_result"
    }
   ],
   "source": [
    "len(train_ge[0])"
   ]
  },
  {
   "cell_type": "code",
   "execution_count": 57,
   "id": "cc707094",
   "metadata": {},
   "outputs": [
    {
     "data": {
      "text/plain": [
       "(4, 150, 150, 3)"
      ]
     },
     "execution_count": 57,
     "metadata": {},
     "output_type": "execute_result"
    }
   ],
   "source": [
    "train_ge[0][0].shape"
   ]
  },
  {
   "cell_type": "code",
   "execution_count": null,
   "id": "ecaca979",
   "metadata": {},
   "outputs": [],
   "source": []
  },
  {
   "cell_type": "code",
   "execution_count": 58,
   "id": "d3bca97c",
   "metadata": {
    "scrolled": false
   },
   "outputs": [
    {
     "name": "stdout",
     "output_type": "stream",
     "text": [
      "Epoch 1/30\n",
      "8/8 [==============================] - 2s 185ms/step - loss: 1.2730 - accuracy: 0.2000 - val_loss: 1.1616 - val_accuracy: 0.3333\n",
      "Epoch 2/30\n",
      "8/8 [==============================] - 1s 140ms/step - loss: 1.1338 - accuracy: 0.2000 - val_loss: 1.0999 - val_accuracy: 0.3333\n",
      "Epoch 3/30\n",
      "8/8 [==============================] - 1s 138ms/step - loss: 1.1125 - accuracy: 0.3333 - val_loss: 1.0896 - val_accuracy: 0.2222\n",
      "Epoch 4/30\n",
      "8/8 [==============================] - 1s 137ms/step - loss: 1.0976 - accuracy: 0.3000 - val_loss: 1.0676 - val_accuracy: 0.6667\n",
      "Epoch 5/30\n",
      "8/8 [==============================] - 1s 139ms/step - loss: 1.1027 - accuracy: 0.3667 - val_loss: 1.0198 - val_accuracy: 0.3333\n",
      "Epoch 6/30\n",
      "8/8 [==============================] - 1s 145ms/step - loss: 1.0025 - accuracy: 0.5000 - val_loss: 0.9505 - val_accuracy: 0.7778\n",
      "Epoch 7/30\n",
      "8/8 [==============================] - 1s 145ms/step - loss: 1.0118 - accuracy: 0.5333 - val_loss: 0.8396 - val_accuracy: 0.7778\n",
      "Epoch 8/30\n",
      "8/8 [==============================] - 1s 133ms/step - loss: 1.0153 - accuracy: 0.4667 - val_loss: 0.8350 - val_accuracy: 0.7778\n",
      "Epoch 9/30\n",
      "8/8 [==============================] - 1s 136ms/step - loss: 1.1250 - accuracy: 0.4667 - val_loss: 0.8213 - val_accuracy: 0.8889\n",
      "Epoch 10/30\n",
      "8/8 [==============================] - 1s 138ms/step - loss: 0.9337 - accuracy: 0.5667 - val_loss: 0.8614 - val_accuracy: 0.8889\n",
      "Epoch 11/30\n",
      "8/8 [==============================] - 1s 129ms/step - loss: 0.9287 - accuracy: 0.5667 - val_loss: 0.7499 - val_accuracy: 0.6667\n",
      "Epoch 12/30\n",
      "8/8 [==============================] - 1s 128ms/step - loss: 1.0517 - accuracy: 0.4333 - val_loss: 0.8594 - val_accuracy: 0.7778\n",
      "Epoch 13/30\n",
      "8/8 [==============================] - 1s 133ms/step - loss: 0.9975 - accuracy: 0.4667 - val_loss: 0.9406 - val_accuracy: 0.6667\n",
      "Epoch 14/30\n",
      "8/8 [==============================] - 1s 136ms/step - loss: 1.0077 - accuracy: 0.5000 - val_loss: 0.9335 - val_accuracy: 0.6667\n",
      "Epoch 15/30\n",
      "8/8 [==============================] - 1s 138ms/step - loss: 0.9733 - accuracy: 0.5000 - val_loss: 0.8721 - val_accuracy: 0.6667\n",
      "Epoch 16/30\n",
      "8/8 [==============================] - 1s 133ms/step - loss: 0.9053 - accuracy: 0.5667 - val_loss: 0.8719 - val_accuracy: 0.6667\n",
      "Epoch 17/30\n",
      "8/8 [==============================] - 1s 134ms/step - loss: 0.8688 - accuracy: 0.6000 - val_loss: 0.7558 - val_accuracy: 0.7778\n",
      "Epoch 18/30\n",
      "8/8 [==============================] - 1s 139ms/step - loss: 0.8121 - accuracy: 0.6000 - val_loss: 0.6560 - val_accuracy: 0.7778\n",
      "Epoch 19/30\n",
      "8/8 [==============================] - 1s 137ms/step - loss: 0.9217 - accuracy: 0.5333 - val_loss: 0.7480 - val_accuracy: 0.6667\n",
      "Epoch 20/30\n",
      "8/8 [==============================] - 1s 134ms/step - loss: 0.7834 - accuracy: 0.7000 - val_loss: 0.6483 - val_accuracy: 0.6667\n",
      "Epoch 21/30\n",
      "8/8 [==============================] - 1s 141ms/step - loss: 1.0630 - accuracy: 0.5000 - val_loss: 1.8236 - val_accuracy: 0.4444\n",
      "Epoch 22/30\n",
      "8/8 [==============================] - 1s 137ms/step - loss: 0.9239 - accuracy: 0.7333 - val_loss: 0.9333 - val_accuracy: 0.4444\n",
      "Epoch 23/30\n",
      "8/8 [==============================] - 1s 133ms/step - loss: 0.9910 - accuracy: 0.4667 - val_loss: 0.8590 - val_accuracy: 0.6667\n",
      "Epoch 24/30\n",
      "8/8 [==============================] - 1s 138ms/step - loss: 0.8804 - accuracy: 0.6000 - val_loss: 1.1307 - val_accuracy: 0.6667\n",
      "Epoch 25/30\n",
      "8/8 [==============================] - 1s 133ms/step - loss: 0.8582 - accuracy: 0.6000 - val_loss: 0.9976 - val_accuracy: 0.6667\n",
      "Epoch 26/30\n",
      "8/8 [==============================] - 1s 133ms/step - loss: 0.8766 - accuracy: 0.5000 - val_loss: 0.8929 - val_accuracy: 0.7778\n",
      "Epoch 27/30\n",
      "8/8 [==============================] - 1s 136ms/step - loss: 0.8769 - accuracy: 0.7000 - val_loss: 0.8502 - val_accuracy: 0.7778\n",
      "Epoch 28/30\n",
      "8/8 [==============================] - 1s 138ms/step - loss: 0.8948 - accuracy: 0.6000 - val_loss: 1.1172 - val_accuracy: 0.6667\n",
      "Epoch 29/30\n",
      "8/8 [==============================] - 1s 138ms/step - loss: 0.8579 - accuracy: 0.6000 - val_loss: 1.6717 - val_accuracy: 0.6667\n",
      "Epoch 30/30\n",
      "8/8 [==============================] - 1s 133ms/step - loss: 0.8314 - accuracy: 0.6000 - val_loss: 1.2289 - val_accuracy: 0.7778\n"
     ]
    },
    {
     "data": {
      "text/plain": [
       "<keras.callbacks.History at 0x2b594c02880>"
      ]
     },
     "execution_count": 58,
     "metadata": {},
     "output_type": "execute_result"
    }
   ],
   "source": [
    "model.fit(train_ge,epochs=30,validation_data=test_ge)"
   ]
  },
  {
   "cell_type": "code",
   "execution_count": 35,
   "id": "379de2d1",
   "metadata": {},
   "outputs": [],
   "source": [
    "y_pred = model.predict(test_ge)"
   ]
  },
  {
   "cell_type": "code",
   "execution_count": 37,
   "id": "dcd5d5f4",
   "metadata": {},
   "outputs": [
    {
     "name": "stdout",
     "output_type": "stream",
     "text": [
      "2 1 1 1 2 1 0 2 0 "
     ]
    }
   ],
   "source": [
    "for tri in y_pred : \n",
    "    print(np.argmax(tri),end=\" \")"
   ]
  },
  {
   "cell_type": "code",
   "execution_count": 44,
   "id": "5db4bc1c",
   "metadata": {},
   "outputs": [
    {
     "data": {
      "text/plain": [
       "array([0, 0, 0, 1, 1, 1, 2, 2, 2])"
      ]
     },
     "execution_count": 44,
     "metadata": {},
     "output_type": "execute_result"
    }
   ],
   "source": [
    "test_ge.classes"
   ]
  },
  {
   "cell_type": "code",
   "execution_count": null,
   "id": "c6b062b6",
   "metadata": {},
   "outputs": [],
   "source": []
  }
 ],
 "metadata": {
  "kernelspec": {
   "display_name": "Python 3",
   "language": "python",
   "name": "python3"
  },
  "language_info": {
   "codemirror_mode": {
    "name": "ipython",
    "version": 3
   },
   "file_extension": ".py",
   "mimetype": "text/x-python",
   "name": "python",
   "nbconvert_exporter": "python",
   "pygments_lexer": "ipython3",
   "version": "3.8.8"
  }
 },
 "nbformat": 4,
 "nbformat_minor": 5
}
